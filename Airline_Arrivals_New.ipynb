{
 "cells": [
  {
   "cell_type": "code",
   "execution_count": 1,
   "metadata": {},
   "outputs": [
    {
     "name": "stderr",
     "output_type": "stream",
     "text": [
      "/usr/local/lib/python3.7/site-packages/sklearn/utils/__init__.py:4: DeprecationWarning: Using or importing the ABCs from 'collections' instead of from 'collections.abc' is deprecated, and in 3.8 it will stop working\n",
      "  from collections import Sequence\n"
     ]
    }
   ],
   "source": [
    "import pandas as pd\n",
    "import numpy as np\n",
    "import scipy\n",
    "import matplotlib.pyplot as plt\n",
    "%matplotlib inline\n",
    "import seaborn as sns\n",
    "from sklearn.model_selection import train_test_split\n",
    "from sklearn.linear_model import LogisticRegression\n",
    "from sklearn.linear_model import SGDRegressor\n",
    "from sklearn import preprocessing\n",
    "from sklearn.utils import resample\n",
    "from sklearn.model_selection import cross_val_score\n",
    "from sklearn.metrics import roc_auc_score\n",
    "from sklearn.ensemble import GradientBoostingClassifier\n",
    "from sklearn.ensemble import RandomForestClassifier\n",
    "from sklearn.svm import SVC\n",
    "from sklearn.metrics import recall_score\n",
    "from sklearn import linear_model\n",
    "from sklearn.metrics import confusion_matrix"
   ]
  },
  {
   "cell_type": "code",
   "execution_count": 2,
   "metadata": {},
   "outputs": [],
   "source": [
    "airline = pd.read_csv(r'/Users/admin/Documents/Supervised_learning/Supervised_learning/2008.csv')"
   ]
  },
  {
   "cell_type": "code",
   "execution_count": 3,
   "metadata": {},
   "outputs": [],
   "source": [
    "sample = airline.sample(frac = 0.5, replace=True, random_state = 108)"
   ]
  },
  {
   "cell_type": "code",
   "execution_count": 4,
   "metadata": {},
   "outputs": [
    {
     "data": {
      "text/plain": [
       "(3504864, 29)"
      ]
     },
     "execution_count": 4,
     "metadata": {},
     "output_type": "execute_result"
    }
   ],
   "source": [
    "sample.shape"
   ]
  },
  {
   "cell_type": "code",
   "execution_count": 5,
   "metadata": {},
   "outputs": [
    {
     "data": {
      "text/html": [
       "<div>\n",
       "<style scoped>\n",
       "    .dataframe tbody tr th:only-of-type {\n",
       "        vertical-align: middle;\n",
       "    }\n",
       "\n",
       "    .dataframe tbody tr th {\n",
       "        vertical-align: top;\n",
       "    }\n",
       "\n",
       "    .dataframe thead th {\n",
       "        text-align: right;\n",
       "    }\n",
       "</style>\n",
       "<table border=\"1\" class=\"dataframe\">\n",
       "  <thead>\n",
       "    <tr style=\"text-align: right;\">\n",
       "      <th></th>\n",
       "      <th>Year</th>\n",
       "      <th>Month</th>\n",
       "      <th>DayofMonth</th>\n",
       "      <th>DayOfWeek</th>\n",
       "      <th>DepTime</th>\n",
       "      <th>CRSDepTime</th>\n",
       "      <th>ArrTime</th>\n",
       "      <th>CRSArrTime</th>\n",
       "      <th>UniqueCarrier</th>\n",
       "      <th>FlightNum</th>\n",
       "      <th>...</th>\n",
       "      <th>TaxiIn</th>\n",
       "      <th>TaxiOut</th>\n",
       "      <th>Cancelled</th>\n",
       "      <th>CancellationCode</th>\n",
       "      <th>Diverted</th>\n",
       "      <th>CarrierDelay</th>\n",
       "      <th>WeatherDelay</th>\n",
       "      <th>NASDelay</th>\n",
       "      <th>SecurityDelay</th>\n",
       "      <th>LateAircraftDelay</th>\n",
       "    </tr>\n",
       "  </thead>\n",
       "  <tbody>\n",
       "    <tr>\n",
       "      <th>5107811</th>\n",
       "      <td>2008</td>\n",
       "      <td>9</td>\n",
       "      <td>30</td>\n",
       "      <td>2</td>\n",
       "      <td>750.0</td>\n",
       "      <td>750</td>\n",
       "      <td>943.0</td>\n",
       "      <td>1015</td>\n",
       "      <td>US</td>\n",
       "      <td>1477</td>\n",
       "      <td>...</td>\n",
       "      <td>5.0</td>\n",
       "      <td>16.0</td>\n",
       "      <td>0</td>\n",
       "      <td>NaN</td>\n",
       "      <td>0</td>\n",
       "      <td>NaN</td>\n",
       "      <td>NaN</td>\n",
       "      <td>NaN</td>\n",
       "      <td>NaN</td>\n",
       "      <td>NaN</td>\n",
       "    </tr>\n",
       "    <tr>\n",
       "      <th>4160279</th>\n",
       "      <td>2008</td>\n",
       "      <td>7</td>\n",
       "      <td>24</td>\n",
       "      <td>4</td>\n",
       "      <td>1950.0</td>\n",
       "      <td>1950</td>\n",
       "      <td>2157.0</td>\n",
       "      <td>2159</td>\n",
       "      <td>AS</td>\n",
       "      <td>332</td>\n",
       "      <td>...</td>\n",
       "      <td>7.0</td>\n",
       "      <td>14.0</td>\n",
       "      <td>0</td>\n",
       "      <td>NaN</td>\n",
       "      <td>0</td>\n",
       "      <td>NaN</td>\n",
       "      <td>NaN</td>\n",
       "      <td>NaN</td>\n",
       "      <td>NaN</td>\n",
       "      <td>NaN</td>\n",
       "    </tr>\n",
       "    <tr>\n",
       "      <th>5087377</th>\n",
       "      <td>2008</td>\n",
       "      <td>9</td>\n",
       "      <td>13</td>\n",
       "      <td>6</td>\n",
       "      <td>929.0</td>\n",
       "      <td>937</td>\n",
       "      <td>1045.0</td>\n",
       "      <td>1034</td>\n",
       "      <td>US</td>\n",
       "      <td>1711</td>\n",
       "      <td>...</td>\n",
       "      <td>5.0</td>\n",
       "      <td>28.0</td>\n",
       "      <td>0</td>\n",
       "      <td>NaN</td>\n",
       "      <td>0</td>\n",
       "      <td>NaN</td>\n",
       "      <td>NaN</td>\n",
       "      <td>NaN</td>\n",
       "      <td>NaN</td>\n",
       "      <td>NaN</td>\n",
       "    </tr>\n",
       "    <tr>\n",
       "      <th>1092043</th>\n",
       "      <td>2008</td>\n",
       "      <td>2</td>\n",
       "      <td>18</td>\n",
       "      <td>1</td>\n",
       "      <td>1346.0</td>\n",
       "      <td>1350</td>\n",
       "      <td>1448.0</td>\n",
       "      <td>1445</td>\n",
       "      <td>AA</td>\n",
       "      <td>1853</td>\n",
       "      <td>...</td>\n",
       "      <td>7.0</td>\n",
       "      <td>15.0</td>\n",
       "      <td>0</td>\n",
       "      <td>NaN</td>\n",
       "      <td>0</td>\n",
       "      <td>NaN</td>\n",
       "      <td>NaN</td>\n",
       "      <td>NaN</td>\n",
       "      <td>NaN</td>\n",
       "      <td>NaN</td>\n",
       "    </tr>\n",
       "    <tr>\n",
       "      <th>46446</th>\n",
       "      <td>2008</td>\n",
       "      <td>1</td>\n",
       "      <td>17</td>\n",
       "      <td>4</td>\n",
       "      <td>1013.0</td>\n",
       "      <td>1015</td>\n",
       "      <td>1222.0</td>\n",
       "      <td>1225</td>\n",
       "      <td>WN</td>\n",
       "      <td>790</td>\n",
       "      <td>...</td>\n",
       "      <td>4.0</td>\n",
       "      <td>14.0</td>\n",
       "      <td>0</td>\n",
       "      <td>NaN</td>\n",
       "      <td>0</td>\n",
       "      <td>NaN</td>\n",
       "      <td>NaN</td>\n",
       "      <td>NaN</td>\n",
       "      <td>NaN</td>\n",
       "      <td>NaN</td>\n",
       "    </tr>\n",
       "  </tbody>\n",
       "</table>\n",
       "<p>5 rows × 29 columns</p>\n",
       "</div>"
      ],
      "text/plain": [
       "         Year  Month  DayofMonth  DayOfWeek  DepTime  CRSDepTime  ArrTime  \\\n",
       "5107811  2008      9          30          2    750.0         750    943.0   \n",
       "4160279  2008      7          24          4   1950.0        1950   2157.0   \n",
       "5087377  2008      9          13          6    929.0         937   1045.0   \n",
       "1092043  2008      2          18          1   1346.0        1350   1448.0   \n",
       "46446    2008      1          17          4   1013.0        1015   1222.0   \n",
       "\n",
       "         CRSArrTime UniqueCarrier  FlightNum        ...         TaxiIn  \\\n",
       "5107811        1015            US       1477        ...            5.0   \n",
       "4160279        2159            AS        332        ...            7.0   \n",
       "5087377        1034            US       1711        ...            5.0   \n",
       "1092043        1445            AA       1853        ...            7.0   \n",
       "46446          1225            WN        790        ...            4.0   \n",
       "\n",
       "         TaxiOut  Cancelled  CancellationCode  Diverted  CarrierDelay  \\\n",
       "5107811     16.0          0               NaN         0           NaN   \n",
       "4160279     14.0          0               NaN         0           NaN   \n",
       "5087377     28.0          0               NaN         0           NaN   \n",
       "1092043     15.0          0               NaN         0           NaN   \n",
       "46446       14.0          0               NaN         0           NaN   \n",
       "\n",
       "        WeatherDelay NASDelay  SecurityDelay  LateAircraftDelay  \n",
       "5107811          NaN      NaN            NaN                NaN  \n",
       "4160279          NaN      NaN            NaN                NaN  \n",
       "5087377          NaN      NaN            NaN                NaN  \n",
       "1092043          NaN      NaN            NaN                NaN  \n",
       "46446            NaN      NaN            NaN                NaN  \n",
       "\n",
       "[5 rows x 29 columns]"
      ]
     },
     "execution_count": 5,
     "metadata": {},
     "output_type": "execute_result"
    }
   ],
   "source": [
    "sample.head()"
   ]
  },
  {
   "cell_type": "markdown",
   "metadata": {},
   "source": [
    "# Train_Test_Split"
   ]
  },
  {
   "cell_type": "code",
   "execution_count": 6,
   "metadata": {},
   "outputs": [],
   "source": [
    "sample['late_arrival'] = np.where(sample['ArrDelay'] >=30, 1, 0)"
   ]
  },
  {
   "cell_type": "code",
   "execution_count": 7,
   "metadata": {},
   "outputs": [],
   "source": [
    "sample['CRSDepTime_mod'] =sample['CRSDepTime'] //100"
   ]
  },
  {
   "cell_type": "code",
   "execution_count": 8,
   "metadata": {},
   "outputs": [],
   "source": [
    "X =sample"
   ]
  },
  {
   "cell_type": "code",
   "execution_count": 9,
   "metadata": {},
   "outputs": [],
   "source": [
    "X= X.dropna(axis=1)"
   ]
  },
  {
   "cell_type": "code",
   "execution_count": 10,
   "metadata": {},
   "outputs": [
    {
     "data": {
      "text/html": [
       "<div>\n",
       "<style scoped>\n",
       "    .dataframe tbody tr th:only-of-type {\n",
       "        vertical-align: middle;\n",
       "    }\n",
       "\n",
       "    .dataframe tbody tr th {\n",
       "        vertical-align: top;\n",
       "    }\n",
       "\n",
       "    .dataframe thead th {\n",
       "        text-align: right;\n",
       "    }\n",
       "</style>\n",
       "<table border=\"1\" class=\"dataframe\">\n",
       "  <thead>\n",
       "    <tr style=\"text-align: right;\">\n",
       "      <th></th>\n",
       "      <th>Year</th>\n",
       "      <th>Month</th>\n",
       "      <th>DayofMonth</th>\n",
       "      <th>DayOfWeek</th>\n",
       "      <th>CRSDepTime</th>\n",
       "      <th>CRSArrTime</th>\n",
       "      <th>UniqueCarrier</th>\n",
       "      <th>FlightNum</th>\n",
       "      <th>Origin</th>\n",
       "      <th>Dest</th>\n",
       "      <th>Distance</th>\n",
       "      <th>Cancelled</th>\n",
       "      <th>Diverted</th>\n",
       "      <th>late_arrival</th>\n",
       "      <th>CRSDepTime_mod</th>\n",
       "    </tr>\n",
       "  </thead>\n",
       "  <tbody>\n",
       "    <tr>\n",
       "      <th>5107811</th>\n",
       "      <td>2008</td>\n",
       "      <td>9</td>\n",
       "      <td>30</td>\n",
       "      <td>2</td>\n",
       "      <td>750</td>\n",
       "      <td>1015</td>\n",
       "      <td>US</td>\n",
       "      <td>1477</td>\n",
       "      <td>PHL</td>\n",
       "      <td>LAS</td>\n",
       "      <td>2176</td>\n",
       "      <td>0</td>\n",
       "      <td>0</td>\n",
       "      <td>0</td>\n",
       "      <td>7</td>\n",
       "    </tr>\n",
       "    <tr>\n",
       "      <th>4160279</th>\n",
       "      <td>2008</td>\n",
       "      <td>7</td>\n",
       "      <td>24</td>\n",
       "      <td>4</td>\n",
       "      <td>1950</td>\n",
       "      <td>2159</td>\n",
       "      <td>AS</td>\n",
       "      <td>332</td>\n",
       "      <td>SEA</td>\n",
       "      <td>SJC</td>\n",
       "      <td>697</td>\n",
       "      <td>0</td>\n",
       "      <td>0</td>\n",
       "      <td>0</td>\n",
       "      <td>19</td>\n",
       "    </tr>\n",
       "    <tr>\n",
       "      <th>5087377</th>\n",
       "      <td>2008</td>\n",
       "      <td>9</td>\n",
       "      <td>13</td>\n",
       "      <td>6</td>\n",
       "      <td>937</td>\n",
       "      <td>1034</td>\n",
       "      <td>US</td>\n",
       "      <td>1711</td>\n",
       "      <td>ILM</td>\n",
       "      <td>CLT</td>\n",
       "      <td>185</td>\n",
       "      <td>0</td>\n",
       "      <td>0</td>\n",
       "      <td>0</td>\n",
       "      <td>9</td>\n",
       "    </tr>\n",
       "    <tr>\n",
       "      <th>1092043</th>\n",
       "      <td>2008</td>\n",
       "      <td>2</td>\n",
       "      <td>18</td>\n",
       "      <td>1</td>\n",
       "      <td>1350</td>\n",
       "      <td>1445</td>\n",
       "      <td>AA</td>\n",
       "      <td>1853</td>\n",
       "      <td>DFW</td>\n",
       "      <td>COS</td>\n",
       "      <td>592</td>\n",
       "      <td>0</td>\n",
       "      <td>0</td>\n",
       "      <td>0</td>\n",
       "      <td>13</td>\n",
       "    </tr>\n",
       "    <tr>\n",
       "      <th>46446</th>\n",
       "      <td>2008</td>\n",
       "      <td>1</td>\n",
       "      <td>17</td>\n",
       "      <td>4</td>\n",
       "      <td>1015</td>\n",
       "      <td>1225</td>\n",
       "      <td>WN</td>\n",
       "      <td>790</td>\n",
       "      <td>LAS</td>\n",
       "      <td>PHX</td>\n",
       "      <td>256</td>\n",
       "      <td>0</td>\n",
       "      <td>0</td>\n",
       "      <td>0</td>\n",
       "      <td>10</td>\n",
       "    </tr>\n",
       "  </tbody>\n",
       "</table>\n",
       "</div>"
      ],
      "text/plain": [
       "         Year  Month  DayofMonth  DayOfWeek  CRSDepTime  CRSArrTime  \\\n",
       "5107811  2008      9          30          2         750        1015   \n",
       "4160279  2008      7          24          4        1950        2159   \n",
       "5087377  2008      9          13          6         937        1034   \n",
       "1092043  2008      2          18          1        1350        1445   \n",
       "46446    2008      1          17          4        1015        1225   \n",
       "\n",
       "        UniqueCarrier  FlightNum Origin Dest  Distance  Cancelled  Diverted  \\\n",
       "5107811            US       1477    PHL  LAS      2176          0         0   \n",
       "4160279            AS        332    SEA  SJC       697          0         0   \n",
       "5087377            US       1711    ILM  CLT       185          0         0   \n",
       "1092043            AA       1853    DFW  COS       592          0         0   \n",
       "46446              WN        790    LAS  PHX       256          0         0   \n",
       "\n",
       "         late_arrival  CRSDepTime_mod  \n",
       "5107811             0               7  \n",
       "4160279             0              19  \n",
       "5087377             0               9  \n",
       "1092043             0              13  \n",
       "46446               0              10  "
      ]
     },
     "execution_count": 10,
     "metadata": {},
     "output_type": "execute_result"
    }
   ],
   "source": [
    "X.head()"
   ]
  },
  {
   "cell_type": "code",
   "execution_count": 11,
   "metadata": {},
   "outputs": [],
   "source": [
    "Y=X['late_arrival']"
   ]
  },
  {
   "cell_type": "code",
   "execution_count": 12,
   "metadata": {},
   "outputs": [],
   "source": [
    "X =X.loc[:, ~ X.columns.isin(['late_arrival'])]"
   ]
  },
  {
   "cell_type": "code",
   "execution_count": 13,
   "metadata": {},
   "outputs": [],
   "source": [
    "X_train, X_test, Y_train, Y_test = train_test_split(X, Y, test_size=0.2, random_state=108)"
   ]
  },
  {
   "cell_type": "markdown",
   "metadata": {},
   "source": [
    "# Converting Categorical Variables into Probabilities of Being Late"
   ]
  },
  {
   "cell_type": "code",
   "execution_count": 14,
   "metadata": {},
   "outputs": [],
   "source": [
    "def converter(df_orig, column, df_dest):\n",
    "    dictionary = {}\n",
    "\n",
    "    keys = pd.DataFrame(df_orig[column].value_counts(normalize=True)).index.values\n",
    "    values = np.array(df_orig[column].value_counts(normalize=True))\n",
    "\n",
    "    dictionary = dict(zip(keys, values))\n",
    "    series = df_dest[column].map(dictionary)\n",
    "    return  series"
   ]
  },
  {
   "cell_type": "markdown",
   "metadata": {},
   "source": [
    "# Dealing with Class Imbalance (Manual Approach)"
   ]
  },
  {
   "cell_type": "code",
   "execution_count": 15,
   "metadata": {},
   "outputs": [],
   "source": [
    "late = X_train[Y_train==1]\n",
    "ontime = X_train[Y_train==0]"
   ]
  },
  {
   "cell_type": "code",
   "execution_count": 16,
   "metadata": {},
   "outputs": [
    {
     "data": {
      "text/plain": [
       "(369975, 14)"
      ]
     },
     "execution_count": 16,
     "metadata": {},
     "output_type": "execute_result"
    }
   ],
   "source": [
    "late.shape"
   ]
  },
  {
   "cell_type": "code",
   "execution_count": 17,
   "metadata": {},
   "outputs": [
    {
     "data": {
      "text/plain": [
       "(2433916, 14)"
      ]
     },
     "execution_count": 17,
     "metadata": {},
     "output_type": "execute_result"
    }
   ],
   "source": [
    "ontime.shape"
   ]
  },
  {
   "cell_type": "code",
   "execution_count": 18,
   "metadata": {},
   "outputs": [],
   "source": [
    "late_resampled = resample(late,replace=True, n_samples=300000, random_state=108)\n",
    "ontime_resampled = resample(ontime,replace=True, n_samples=300000, random_state=108)"
   ]
  },
  {
   "cell_type": "code",
   "execution_count": 19,
   "metadata": {},
   "outputs": [],
   "source": [
    "df_balanced= pd.concat([late_resampled, ontime_resampled])"
   ]
  },
  {
   "cell_type": "code",
   "execution_count": 20,
   "metadata": {},
   "outputs": [],
   "source": [
    "df_balanced['Mod_CRSDepTime'] = converter(late_resampled, 'CRSDepTime_mod', df_balanced)\n",
    "df_balanced['Mod_Month'] = converter(late_resampled, 'Month', df_balanced)\n",
    "df_balanced['Mod_DayOfWeek'] = converter(late_resampled, 'DayOfWeek', df_balanced)\n",
    "df_balanced['Mod_DayofMonth'] = converter(late_resampled, 'DayofMonth', df_balanced)\n",
    "df_balanced['Mod_UniqueCarrier'] = converter(late_resampled, 'UniqueCarrier', df_balanced)\n",
    "#df_balanced['Mod_Dest'] = converter(late_resampled, 'Dest', df_balanced)\n",
    "#df_balanced['Mod_Origin'] = converter(late_resampled, 'Origin', df_balanced)"
   ]
  },
  {
   "cell_type": "code",
   "execution_count": 22,
   "metadata": {},
   "outputs": [
    {
     "name": "stderr",
     "output_type": "stream",
     "text": [
      "/usr/local/lib/python3.7/site-packages/ipykernel_launcher.py:1: SettingWithCopyWarning: \n",
      "A value is trying to be set on a copy of a slice from a DataFrame.\n",
      "Try using .loc[row_indexer,col_indexer] = value instead\n",
      "\n",
      "See the caveats in the documentation: http://pandas.pydata.org/pandas-docs/stable/indexing.html#indexing-view-versus-copy\n",
      "  \"\"\"Entry point for launching an IPython kernel.\n",
      "/usr/local/lib/python3.7/site-packages/ipykernel_launcher.py:2: SettingWithCopyWarning: \n",
      "A value is trying to be set on a copy of a slice from a DataFrame.\n",
      "Try using .loc[row_indexer,col_indexer] = value instead\n",
      "\n",
      "See the caveats in the documentation: http://pandas.pydata.org/pandas-docs/stable/indexing.html#indexing-view-versus-copy\n",
      "  \n"
     ]
    }
   ],
   "source": [
    "late_resampled['late_arrival'] = [1] *300000\n",
    "ontime_resampled['late_arrival'] = [0]*300000\n",
    "\n",
    "#recreating the Y_train_balanced for validation purposes from the training set\n",
    "df_Y_b = pd.concat([late_resampled, ontime_resampled])\n",
    "Y_train_balanced = df_Y_b['late_arrival']"
   ]
  },
  {
   "cell_type": "code",
   "execution_count": 23,
   "metadata": {},
   "outputs": [],
   "source": [
    "X_train_balanced = df_balanced.loc[:, ~ df_balanced.columns.isin(['Year','Cancelled', 'CancellationCode', 'Diverted', 'CarrierDelay',\n",
    "                       'WeatherDelay', 'NASDelay', 'SecurityDelay', 'LateAircraftDelay', 'TailNum', 'UniqueCarrier',\n",
    "                        'ActualElapsedTime', 'Year','Cancelled', 'CancellationCode', 'Diverted', 'CarrierDelay',\n",
    "                        'WeatherDelay', 'NASDelay', 'SecurityDelay',  'CRSDepTime','Month', \n",
    "                        'TailNum', 'UniqueCarrier', 'Origin', 'Dest', 'DepTime', 'ArrTime', 'DayOfWeek','CRSElapsedTime','CRSArrTime',\n",
    "                        'Dest', 'DepTime', 'ArrTime', 'ActualElapsedTime', 'ArrDelay', 'DayofMonth', 'DepDelay', 'TaxiIn', 'TaxiOut',\n",
    "                        '9E', 'AA', 'AQ', 'AS', 'B6', 'CO', 'DL', 'EV', 'F9', 'FL', 'HA', 'MQ', 'NW',\n",
    "                        'OH', 'OO', 'UA', 'US', 'WN', 'XE', 'YV', 'FlightNum', \n",
    "                        'Month_mod', 'DayOfWeek_mod', 'CRSDepTime_mod'])]"
   ]
  },
  {
   "cell_type": "code",
   "execution_count": 24,
   "metadata": {},
   "outputs": [
    {
     "data": {
      "text/plain": [
       "Index(['Distance', 'Mod_CRSDepTime', 'Mod_Month', 'Mod_DayOfWeek',\n",
       "       'Mod_DayofMonth', 'Mod_UniqueCarrier'],\n",
       "      dtype='object')"
      ]
     },
     "execution_count": 24,
     "metadata": {},
     "output_type": "execute_result"
    }
   ],
   "source": [
    "X_train_balanced.columns"
   ]
  },
  {
   "cell_type": "code",
   "execution_count": 25,
   "metadata": {},
   "outputs": [
    {
     "data": {
      "text/plain": [
       "False"
      ]
     },
     "execution_count": 25,
     "metadata": {},
     "output_type": "execute_result"
    }
   ],
   "source": [
    "Y_train_balanced.isnull().values.any()"
   ]
  },
  {
   "cell_type": "code",
   "execution_count": 26,
   "metadata": {},
   "outputs": [
    {
     "name": "stderr",
     "output_type": "stream",
     "text": [
      "/usr/local/lib/python3.7/site-packages/ipykernel_launcher.py:1: SettingWithCopyWarning: \n",
      "A value is trying to be set on a copy of a slice from a DataFrame.\n",
      "Try using .loc[row_indexer,col_indexer] = value instead\n",
      "\n",
      "See the caveats in the documentation: http://pandas.pydata.org/pandas-docs/stable/indexing.html#indexing-view-versus-copy\n",
      "  \"\"\"Entry point for launching an IPython kernel.\n",
      "/usr/local/lib/python3.7/site-packages/ipykernel_launcher.py:2: SettingWithCopyWarning: \n",
      "A value is trying to be set on a copy of a slice from a DataFrame.\n",
      "Try using .loc[row_indexer,col_indexer] = value instead\n",
      "\n",
      "See the caveats in the documentation: http://pandas.pydata.org/pandas-docs/stable/indexing.html#indexing-view-versus-copy\n",
      "  \n",
      "/usr/local/lib/python3.7/site-packages/ipykernel_launcher.py:3: SettingWithCopyWarning: \n",
      "A value is trying to be set on a copy of a slice from a DataFrame.\n",
      "Try using .loc[row_indexer,col_indexer] = value instead\n",
      "\n",
      "See the caveats in the documentation: http://pandas.pydata.org/pandas-docs/stable/indexing.html#indexing-view-versus-copy\n",
      "  This is separate from the ipykernel package so we can avoid doing imports until\n",
      "/usr/local/lib/python3.7/site-packages/ipykernel_launcher.py:4: SettingWithCopyWarning: \n",
      "A value is trying to be set on a copy of a slice from a DataFrame.\n",
      "Try using .loc[row_indexer,col_indexer] = value instead\n",
      "\n",
      "See the caveats in the documentation: http://pandas.pydata.org/pandas-docs/stable/indexing.html#indexing-view-versus-copy\n",
      "  after removing the cwd from sys.path.\n",
      "/usr/local/lib/python3.7/site-packages/ipykernel_launcher.py:5: SettingWithCopyWarning: \n",
      "A value is trying to be set on a copy of a slice from a DataFrame.\n",
      "Try using .loc[row_indexer,col_indexer] = value instead\n",
      "\n",
      "See the caveats in the documentation: http://pandas.pydata.org/pandas-docs/stable/indexing.html#indexing-view-versus-copy\n",
      "  \"\"\"\n"
     ]
    }
   ],
   "source": [
    "X_test['Mod_CRSDepTime'] = converter(late, 'CRSDepTime_mod', X_test)\n",
    "X_test['Mod_Month'] = converter(late, 'Month', X_test)\n",
    "X_test['Mod_DayOfWeek'] = converter(late, 'DayOfWeek', X_test)\n",
    "X_test['Mod_DayofMonth'] = converter(late, 'DayofMonth', X_test)\n",
    "X_test['Mod_UniqueCarrier'] = converter(late, 'UniqueCarrier', X_test)\n",
    "#X_test['Mod_Dest'] = converter(late, 'Dest', X_test)\n",
    "#X_test['Mod_Origin'] = converter(late, 'Origin', X_test)"
   ]
  },
  {
   "cell_type": "code",
   "execution_count": 27,
   "metadata": {},
   "outputs": [
    {
     "data": {
      "text/plain": [
       "False"
      ]
     },
     "execution_count": 27,
     "metadata": {},
     "output_type": "execute_result"
    }
   ],
   "source": [
    "X_train_balanced.isnull().values.any()"
   ]
  },
  {
   "cell_type": "markdown",
   "metadata": {},
   "source": [
    "# Random Forest"
   ]
  },
  {
   "cell_type": "code",
   "execution_count": 29,
   "metadata": {},
   "outputs": [],
   "source": [
    "roc_auc_scores = []\n",
    "parameters = []\n",
    "\n",
    "est_number = [100, 500,700] \n",
    "\n",
    "for value in est_number:\n",
    "    rfc = RandomForestClassifier(n_jobs = -1, n_estimators = value)\n",
    "    roc_auc = np.mean(cross_val_score(rfc, X_train_balanced, Y_train_balanced, scoring = 'roc_auc', n_jobs=-1))\n",
    "    roc_auc_scores.append(roc_auc)\n",
    "    parameters.append(value)"
   ]
  },
  {
   "cell_type": "code",
   "execution_count": 34,
   "metadata": {},
   "outputs": [
    {
     "data": {
      "text/html": [
       "<div>\n",
       "<style scoped>\n",
       "    .dataframe tbody tr th:only-of-type {\n",
       "        vertical-align: middle;\n",
       "    }\n",
       "\n",
       "    .dataframe tbody tr th {\n",
       "        vertical-align: top;\n",
       "    }\n",
       "\n",
       "    .dataframe thead th {\n",
       "        text-align: right;\n",
       "    }\n",
       "</style>\n",
       "<table border=\"1\" class=\"dataframe\">\n",
       "  <thead>\n",
       "    <tr style=\"text-align: right;\">\n",
       "      <th></th>\n",
       "      <th>roc_auc_scores</th>\n",
       "      <th>params</th>\n",
       "    </tr>\n",
       "  </thead>\n",
       "  <tbody>\n",
       "    <tr>\n",
       "      <th>0</th>\n",
       "      <td>0.845194</td>\n",
       "      <td>700</td>\n",
       "    </tr>\n",
       "    <tr>\n",
       "      <th>1</th>\n",
       "      <td>0.844948</td>\n",
       "      <td>500</td>\n",
       "    </tr>\n",
       "    <tr>\n",
       "      <th>2</th>\n",
       "      <td>0.843049</td>\n",
       "      <td>100</td>\n",
       "    </tr>\n",
       "  </tbody>\n",
       "</table>\n",
       "</div>"
      ],
      "text/plain": [
       "   roc_auc_scores  params\n",
       "0        0.845194     700\n",
       "1        0.844948     500\n",
       "2        0.843049     100"
      ]
     },
     "execution_count": 34,
     "metadata": {},
     "output_type": "execute_result"
    }
   ],
   "source": [
    "df = pd.DataFrame(roc_auc_scores)\n",
    "df['params'] = parameters\n",
    "df.columns=['roc_auc_scores', 'params']\n",
    "\n",
    "df.sort_values(by = 'roc_auc_scores', ascending=False).reset_index(drop=True)"
   ]
  },
  {
   "cell_type": "code",
   "execution_count": 35,
   "metadata": {},
   "outputs": [],
   "source": [
    "roc_auc_scores = []\n",
    "parameters = []\n",
    "\n",
    "depth = [8, 20, 50] \n",
    "\n",
    "for value in depth:\n",
    "    rfc = RandomForestClassifier(n_jobs = -1, n_estimators = 700, max_depth = value)\n",
    "    roc_auc = np.mean(cross_val_score(rfc, X_train_balanced, Y_train_balanced, scoring = 'roc_auc', n_jobs=-1))\n",
    "    roc_auc_scores.append(roc_auc)\n",
    "    parameters.append(value)"
   ]
  },
  {
   "cell_type": "code",
   "execution_count": 36,
   "metadata": {},
   "outputs": [
    {
     "data": {
      "text/html": [
       "<div>\n",
       "<style scoped>\n",
       "    .dataframe tbody tr th:only-of-type {\n",
       "        vertical-align: middle;\n",
       "    }\n",
       "\n",
       "    .dataframe tbody tr th {\n",
       "        vertical-align: top;\n",
       "    }\n",
       "\n",
       "    .dataframe thead th {\n",
       "        text-align: right;\n",
       "    }\n",
       "</style>\n",
       "<table border=\"1\" class=\"dataframe\">\n",
       "  <thead>\n",
       "    <tr style=\"text-align: right;\">\n",
       "      <th></th>\n",
       "      <th>roc_auc_scores</th>\n",
       "      <th>params</th>\n",
       "    </tr>\n",
       "  </thead>\n",
       "  <tbody>\n",
       "    <tr>\n",
       "      <th>0</th>\n",
       "      <td>0.845194</td>\n",
       "      <td>50</td>\n",
       "    </tr>\n",
       "    <tr>\n",
       "      <th>1</th>\n",
       "      <td>0.819901</td>\n",
       "      <td>20</td>\n",
       "    </tr>\n",
       "    <tr>\n",
       "      <th>2</th>\n",
       "      <td>0.682616</td>\n",
       "      <td>8</td>\n",
       "    </tr>\n",
       "  </tbody>\n",
       "</table>\n",
       "</div>"
      ],
      "text/plain": [
       "   roc_auc_scores  params\n",
       "0        0.845194      50\n",
       "1        0.819901      20\n",
       "2        0.682616       8"
      ]
     },
     "execution_count": 36,
     "metadata": {},
     "output_type": "execute_result"
    }
   ],
   "source": [
    "df = pd.DataFrame(roc_auc_scores)\n",
    "df['params'] = parameters\n",
    "df.columns=['roc_auc_scores', 'params']\n",
    "\n",
    "df.sort_values(by = 'roc_auc_scores', ascending=False).reset_index(drop=True)"
   ]
  },
  {
   "cell_type": "markdown",
   "metadata": {},
   "source": [
    "# Gradient Boosting"
   ]
  },
  {
   "cell_type": "code",
   "execution_count": 43,
   "metadata": {},
   "outputs": [],
   "source": [
    "roc_auc_scores = []\n",
    "parameters = []\n",
    "\n",
    "loss = ['deviance', 'exponential']\n",
    "\n",
    "for value in loss:\n",
    "    gbc = GradientBoostingClassifier(loss = value)\n",
    "    roc_auc = np.mean(cross_val_score(gbc, X_train_balanced, Y_train_balanced, scoring = 'roc_auc', n_jobs=-1))\n",
    "    roc_auc_scores.append(roc_auc)\n",
    "    parameters.append(value)"
   ]
  },
  {
   "cell_type": "code",
   "execution_count": 50,
   "metadata": {},
   "outputs": [],
   "source": [
    "roc_auc_scores = []\n",
    "parameters = []\n",
    "\n",
    "est_number = [100, 500,700]\n",
    "\n",
    "for value in est_number:\n",
    "    gbc = GradientBoostingClassifier(loss = 'deviance', n_estimators = value)\n",
    "    roc_auc = np.mean(cross_val_score(gbc, X_train_balanced, Y_train_balanced, scoring = 'roc_auc', n_jobs=-1))\n",
    "    roc_auc_scores.append(roc_auc)\n",
    "    parameters.append(value)"
   ]
  },
  {
   "cell_type": "code",
   "execution_count": 51,
   "metadata": {},
   "outputs": [
    {
     "data": {
      "text/html": [
       "<div>\n",
       "<style scoped>\n",
       "    .dataframe tbody tr th:only-of-type {\n",
       "        vertical-align: middle;\n",
       "    }\n",
       "\n",
       "    .dataframe tbody tr th {\n",
       "        vertical-align: top;\n",
       "    }\n",
       "\n",
       "    .dataframe thead th {\n",
       "        text-align: right;\n",
       "    }\n",
       "</style>\n",
       "<table border=\"1\" class=\"dataframe\">\n",
       "  <thead>\n",
       "    <tr style=\"text-align: right;\">\n",
       "      <th></th>\n",
       "      <th>roc_auc_scores</th>\n",
       "      <th>params</th>\n",
       "    </tr>\n",
       "  </thead>\n",
       "  <tbody>\n",
       "    <tr>\n",
       "      <th>0</th>\n",
       "      <td>0.708272</td>\n",
       "      <td>700</td>\n",
       "    </tr>\n",
       "    <tr>\n",
       "      <th>1</th>\n",
       "      <td>0.702774</td>\n",
       "      <td>500</td>\n",
       "    </tr>\n",
       "    <tr>\n",
       "      <th>2</th>\n",
       "      <td>0.682430</td>\n",
       "      <td>100</td>\n",
       "    </tr>\n",
       "  </tbody>\n",
       "</table>\n",
       "</div>"
      ],
      "text/plain": [
       "   roc_auc_scores  params\n",
       "0        0.708272     700\n",
       "1        0.702774     500\n",
       "2        0.682430     100"
      ]
     },
     "execution_count": 51,
     "metadata": {},
     "output_type": "execute_result"
    }
   ],
   "source": [
    "df = pd.DataFrame(roc_auc_scores)\n",
    "df['params'] = parameters\n",
    "df.columns=['roc_auc_scores', 'params']\n",
    "\n",
    "df.sort_values(by = 'roc_auc_scores', ascending=False).reset_index(drop=True)"
   ]
  },
  {
   "cell_type": "code",
   "execution_count": 53,
   "metadata": {},
   "outputs": [],
   "source": [
    "roc_auc_scores = []\n",
    "parameters = []\n",
    "\n",
    "depth = [3, 6, 8]\n",
    "\n",
    "for value in depth:\n",
    "    gbc = GradientBoostingClassifier(loss = 'deviance', n_estimators = 700, max_depth = value)\n",
    "    roc_auc = np.mean(cross_val_score(gbc, X_train_balanced, Y_train_balanced, scoring = 'roc_auc', n_jobs=-1))\n",
    "    roc_auc_scores.append(roc_auc)\n",
    "    parameters.append(value)"
   ]
  },
  {
   "cell_type": "code",
   "execution_count": 54,
   "metadata": {},
   "outputs": [
    {
     "data": {
      "text/html": [
       "<div>\n",
       "<style scoped>\n",
       "    .dataframe tbody tr th:only-of-type {\n",
       "        vertical-align: middle;\n",
       "    }\n",
       "\n",
       "    .dataframe tbody tr th {\n",
       "        vertical-align: top;\n",
       "    }\n",
       "\n",
       "    .dataframe thead th {\n",
       "        text-align: right;\n",
       "    }\n",
       "</style>\n",
       "<table border=\"1\" class=\"dataframe\">\n",
       "  <thead>\n",
       "    <tr style=\"text-align: right;\">\n",
       "      <th></th>\n",
       "      <th>roc_auc_scores</th>\n",
       "      <th>params</th>\n",
       "    </tr>\n",
       "  </thead>\n",
       "  <tbody>\n",
       "    <tr>\n",
       "      <th>0</th>\n",
       "      <td>0.786576</td>\n",
       "      <td>8</td>\n",
       "    </tr>\n",
       "    <tr>\n",
       "      <th>1</th>\n",
       "      <td>0.755304</td>\n",
       "      <td>6</td>\n",
       "    </tr>\n",
       "    <tr>\n",
       "      <th>2</th>\n",
       "      <td>0.708272</td>\n",
       "      <td>3</td>\n",
       "    </tr>\n",
       "  </tbody>\n",
       "</table>\n",
       "</div>"
      ],
      "text/plain": [
       "   roc_auc_scores  params\n",
       "0        0.786576       8\n",
       "1        0.755304       6\n",
       "2        0.708272       3"
      ]
     },
     "execution_count": 54,
     "metadata": {},
     "output_type": "execute_result"
    }
   ],
   "source": [
    "df = pd.DataFrame(roc_auc_scores)\n",
    "df['params'] = parameters\n",
    "df.columns=['roc_auc_scores', 'params']\n",
    "\n",
    "df.sort_values(by = 'roc_auc_scores', ascending=False).reset_index(drop=True)"
   ]
  },
  {
   "cell_type": "code",
   "execution_count": 56,
   "metadata": {},
   "outputs": [
    {
     "data": {
      "text/html": [
       "<div>\n",
       "<style scoped>\n",
       "    .dataframe tbody tr th:only-of-type {\n",
       "        vertical-align: middle;\n",
       "    }\n",
       "\n",
       "    .dataframe tbody tr th {\n",
       "        vertical-align: top;\n",
       "    }\n",
       "\n",
       "    .dataframe thead th {\n",
       "        text-align: right;\n",
       "    }\n",
       "</style>\n",
       "<table border=\"1\" class=\"dataframe\">\n",
       "  <thead>\n",
       "    <tr style=\"text-align: right;\">\n",
       "      <th></th>\n",
       "      <th>roc_auc_scores</th>\n",
       "      <th>params</th>\n",
       "    </tr>\n",
       "  </thead>\n",
       "  <tbody>\n",
       "    <tr>\n",
       "      <th>0</th>\n",
       "      <td>0.808078</td>\n",
       "      <td>0.50</td>\n",
       "    </tr>\n",
       "    <tr>\n",
       "      <th>1</th>\n",
       "      <td>0.786576</td>\n",
       "      <td>0.10</td>\n",
       "    </tr>\n",
       "    <tr>\n",
       "      <th>2</th>\n",
       "      <td>0.770039</td>\n",
       "      <td>0.05</td>\n",
       "    </tr>\n",
       "  </tbody>\n",
       "</table>\n",
       "</div>"
      ],
      "text/plain": [
       "   roc_auc_scores  params\n",
       "0        0.808078    0.50\n",
       "1        0.786576    0.10\n",
       "2        0.770039    0.05"
      ]
     },
     "execution_count": 56,
     "metadata": {},
     "output_type": "execute_result"
    }
   ],
   "source": [
    "df = pd.DataFrame(roc_auc_scores)\n",
    "df['params'] = parameters\n",
    "df.columns=['roc_auc_scores', 'params']\n",
    "\n",
    "df.sort_values(by = 'roc_auc_scores', ascending=False).reset_index(drop=True)"
   ]
  },
  {
   "cell_type": "markdown",
   "metadata": {},
   "source": [
    "# Validating on the Test Set"
   ]
  },
  {
   "cell_type": "code",
   "execution_count": 57,
   "metadata": {},
   "outputs": [],
   "source": [
    "X_test_not_balanced = X_test.loc[:, ~ X_test.columns.isin(['Year','Cancelled', 'CancellationCode', 'Diverted', 'CarrierDelay',\n",
    "                       'WeatherDelay', 'NASDelay', 'SecurityDelay', 'LateAircraftDelay', 'TailNum', 'UniqueCarrier',\n",
    "                        'ActualElapsedTime', 'Year','Cancelled', 'CancellationCode', 'Diverted', 'CarrierDelay',\n",
    "                        'WeatherDelay', 'NASDelay', 'SecurityDelay',  'CRSDepTime','Month', 'FlightNum','CRSDepTime_mod',\n",
    "                        'TailNum', 'Origin', 'Dest', 'DepTime', 'ArrTime', 'DayOfWeek','CRSElapsedTime','CRSArrTime',\n",
    "                         'Dest', 'DepTime', 'ArrTime', 'ActualElapsedTime', 'ArrDelay', 'DayofMonth', 'DepDelay', 'TaxiIn', 'TaxiOut'])]"
   ]
  },
  {
   "cell_type": "code",
   "execution_count": 58,
   "metadata": {},
   "outputs": [
    {
     "data": {
      "text/plain": [
       "0.7138317440103987"
      ]
     },
     "execution_count": 58,
     "metadata": {},
     "output_type": "execute_result"
    }
   ],
   "source": [
    "rfc= RandomForestClassifier(n_estimators = 700, max_depth = 50, n_jobs=-1)\n",
    "rfc.fit(X_train_balanced, Y_train_balanced)\n",
    "roc_auc_score(Y_test, rfc.predict_proba(X_test_not_balanced)[:, 1])"
   ]
  },
  {
   "cell_type": "code",
   "execution_count": 62,
   "metadata": {},
   "outputs": [
    {
     "data": {
      "text/plain": [
       "0.7039375177245429"
      ]
     },
     "execution_count": 62,
     "metadata": {},
     "output_type": "execute_result"
    }
   ],
   "source": [
    "gbc = GradientBoostingClassifier(n_estimators = 700, max_depth = 8, loss = 'deviance', learning_rate=0.5)\n",
    "\n",
    "gbc.fit(X_train_balanced, Y_train_balanced)\n",
    "roc_auc_score(Y_test, gbc.predict_proba(X_test_not_balanced)[:, 1])"
   ]
  },
  {
   "cell_type": "markdown",
   "metadata": {},
   "source": [
    "# Experimentation with Different Probability Settings"
   ]
  },
  {
   "cell_type": "code",
   "execution_count": 59,
   "metadata": {},
   "outputs": [],
   "source": [
    "def prediction(classifier, feature_set, prob):\n",
    "    y_predicted = []\n",
    "    for i in classifier.predict_proba(feature_set)[:, 1]:\n",
    "        if i > prob:\n",
    "            y_predicted.append(1)\n",
    "        else: \n",
    "            y_predicted.append(0)\n",
    "    return y_predicted\n",
    "\n",
    "y_predicted = prediction(rfc, X_test_not_balanced, 0.95)      "
   ]
  },
  {
   "cell_type": "code",
   "execution_count": 60,
   "metadata": {},
   "outputs": [
    {
     "data": {
      "text/plain": [
       "array([[605907,   2116],\n",
       "       [ 90213,   2737]])"
      ]
     },
     "execution_count": 60,
     "metadata": {},
     "output_type": "execute_result"
    }
   ],
   "source": [
    "confusion_matrix(Y_test, y_predicted)"
   ]
  },
  {
   "cell_type": "code",
   "execution_count": 64,
   "metadata": {},
   "outputs": [],
   "source": [
    "def prediction(classifier, feature_set, prob):\n",
    "    y_predicted = []\n",
    "    for i in classifier.predict_proba(feature_set)[:, 1]:\n",
    "        if i > prob:\n",
    "            y_predicted.append(1)\n",
    "        else: \n",
    "            y_predicted.append(0)\n",
    "    return y_predicted\n",
    "\n",
    "y_predicted = prediction(rfc, X_test_not_balanced, 0.5)   "
   ]
  },
  {
   "cell_type": "code",
   "execution_count": 65,
   "metadata": {},
   "outputs": [
    {
     "data": {
      "text/plain": [
       "array([[453622, 154401],\n",
       "       [ 41225,  51725]])"
      ]
     },
     "execution_count": 65,
     "metadata": {},
     "output_type": "execute_result"
    }
   ],
   "source": [
    "confusion_matrix(Y_test, y_predicted)"
   ]
  },
  {
   "cell_type": "code",
   "execution_count": null,
   "metadata": {},
   "outputs": [],
   "source": []
  }
 ],
 "metadata": {
  "kernelspec": {
   "display_name": "Python 3",
   "language": "python",
   "name": "python3"
  },
  "language_info": {
   "codemirror_mode": {
    "name": "ipython",
    "version": 3
   },
   "file_extension": ".py",
   "mimetype": "text/x-python",
   "name": "python",
   "nbconvert_exporter": "python",
   "pygments_lexer": "ipython3",
   "version": "3.7.0"
  }
 },
 "nbformat": 4,
 "nbformat_minor": 2
}
